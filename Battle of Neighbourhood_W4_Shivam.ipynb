{
    "cells": [
        {
            "metadata": {
                "collapsed": true
            },
            "cell_type": "markdown",
            "source": "## Business Problem:\nHow could we provide support to homebuyers clientele in to purchase a suitable real estate in London in this uncertain economic and financial scenario?\n\n\n## Solution: \nClustering London neighborhoods in order to recommend venues and the current average price of real estate where homebuyers can make a real estate investment.\u00a0\n\n## Data and Methodology:\n\n#### Data: \nmerging data on London properties and the relative price paid data from the HM Land Registry and data on amenities and essential facilities surrounding such properties from FourSquare API interface.\n#### Mehodology: \nCollect Inspection Data;\nExplore and Understand Data;\nData preparation and preprocessing;\nModeling\nK- Means Clustering\n\n## Outcome:\n\n#### Examination of real estates according to neighborhoods/London areas\nWest London (Notting Hill, Kensington, Chelsea, Marylebone) and North-West London (Hampsted) might be considered highly profitable venues to purchase a real estate;\nSouth-West London (Wandsworth, Balham) and North-West London (Isliington) are arising as next future elite venues with a wide range of amenities and facilities.\u00a0\nExamination of real estates  by clusters\nClusters 0, 2 and 4 may target home buyers prone to live in 'green' areas with parks, waterfronts;\nClusters 1 and 3 may target individuals who love pubs, theatres and soccer.\n\n",
            "attachments": {}
        }
    ],
    "metadata": {
        "kernelspec": {
            "name": "python3",
            "display_name": "Python 3.6",
            "language": "python"
        },
        "language_info": {
            "name": "python",
            "version": "3.6.8",
            "mimetype": "text/x-python",
            "codemirror_mode": {
                "name": "ipython",
                "version": 3
            },
            "pygments_lexer": "ipython3",
            "nbconvert_exporter": "python",
            "file_extension": ".py"
        }
    },
    "nbformat": 4,
    "nbformat_minor": 1
}