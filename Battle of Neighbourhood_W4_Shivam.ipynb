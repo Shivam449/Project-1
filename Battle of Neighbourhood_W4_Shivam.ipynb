{
    "cells": [
        {
            "metadata": {
                "collapsed": true
            },
            "cell_type": "markdown",
            "source": "## Problem and  discussion of the background along with proposed solution:\n\nReal estate in london is in going through many changes due to various factors such as brexit, changes in taxes for properties etc. This situation makes it difficult for new property buyers to evaluate their options when purchasing properties for various reasons such as personal or commercial etc.\n\nIn such a scenario property, buyers need to understand the the market through clustering and associating neighbourhoods with current average prices to help them make correct decision. \n\n## Description of the data and how it will be used to solve the problem: \nThe code aims to merge data from UK Land Registry Open Data (http://landregistry.data.gov.uk/) along with venue details such as number of parks close by or supermarkets from FourSquareAPI intefrace to provide property buyers with enough information to make a suitbale decision.For example, a working couple with kids can look at houses in a kid\u2019s friendly neighbourhood. They can filter down localities with parks close by, supermarkets to buy groceries and school for kids. Or if someone is looking to open a Japanese restaurant, he can look for a space which has malls close buy that will ensure enough footfall for the restaurant or compare the business of similar restaurants in the vicinity of the proposed area. The data collected will be first inspected, explored, processed and then modelled to provide solutions for the target audience. \n\n### Target Audience: \n\nAnyone who is interested in buying property in London. This could be a bachelor who has recently moved to London and wants to pruchase a home while he works in UK or an elderly couple who want to move to London to enjoy retirement. \n\n"
        }
    ],
    "metadata": {
        "kernelspec": {
            "name": "python3",
            "display_name": "Python 3.6",
            "language": "python"
        },
        "language_info": {
            "name": "python",
            "version": "3.6.8",
            "mimetype": "text/x-python",
            "codemirror_mode": {
                "name": "ipython",
                "version": 3
            },
            "pygments_lexer": "ipython3",
            "nbconvert_exporter": "python",
            "file_extension": ".py"
        }
    },
    "nbformat": 4,
    "nbformat_minor": 1
}